{
 "cells": [
  {
   "cell_type": "code",
   "execution_count": 56,
   "id": "f17e0c89-dbc6-4526-8d8b-d97c5c9ccb1f",
   "metadata": {},
   "outputs": [],
   "source": [
    "with open(\"inputs/11\", \"r\") as fp:\n",
    "    data = fp.read()"
   ]
  },
  {
   "cell_type": "code",
   "execution_count": 57,
   "id": "0c748bcb-fea0-4664-998c-de29289936d8",
   "metadata": {},
   "outputs": [],
   "source": [
    "monkey = []\n",
    "lst_monkey = []\n",
    "for line in data.split(\"\\n\"):\n",
    "    if len(line) == 0:\n",
    "        lst_monkey.append(monkey)\n",
    "        monkey = []\n",
    "    else:\n",
    "        monkey.append(line)\n",
    "\n",
    "if len(monkey) != 0:\n",
    "    lst_monkey.append(monkey)"
   ]
  },
  {
   "cell_type": "code",
   "execution_count": 58,
   "id": "cf20bbc2-badf-4e74-ac35-db0543e91f14",
   "metadata": {},
   "outputs": [],
   "source": [
    "def process_ops(ops):\n",
    "    a, op, b = ops.split()\n",
    "    if op == \"+\":\n",
    "        if b == \"old\":\n",
    "            return lambda x: x+x\n",
    "        else:\n",
    "            return lambda x: x+int(b)\n",
    "            \n",
    "    elif op == \"*\":\n",
    "        if b == \"old\":\n",
    "            return lambda x: x * x\n",
    "        else:\n",
    "            return lambda x: x * int(b)\n",
    "        \n",
    "        "
   ]
  },
  {
   "cell_type": "code",
   "execution_count": 59,
   "id": "ec524ba9-d307-4cd2-aaba-df0b8851a21b",
   "metadata": {},
   "outputs": [],
   "source": [
    "def process_monkey(monkey):\n",
    "    L_start = list(map(int, monkey[1].split(\":\")[1].split(\",\")))\n",
    "    L_ops = process_ops(monkey[2].split(\"new =\")[1])\n",
    "    \n",
    "    L_test = int(monkey[3].split(\"by\")[1])\n",
    "    L_true = int(monkey[4].split(\"monkey \")[1])\n",
    "    L_false = int(monkey[5].split(\"monkey \")[1])\n",
    "    \n",
    "    return [L_start, L_ops, L_test, L_true, L_false]"
   ]
  },
  {
   "cell_type": "code",
   "execution_count": 60,
   "id": "8c7518e5-5ee8-4afa-ad95-8de0e9b773a9",
   "metadata": {},
   "outputs": [
    {
     "data": {
      "text/plain": [
       "[['Monkey 0:',\n",
       "  '  Starting items: 63, 84, 80, 83, 84, 53, 88, 72',\n",
       "  '  Operation: new = old * 11',\n",
       "  '  Test: divisible by 13',\n",
       "  '    If true: throw to monkey 4',\n",
       "  '    If false: throw to monkey 7'],\n",
       " ['Monkey 1:',\n",
       "  '  Starting items: 67, 56, 92, 88, 84',\n",
       "  '  Operation: new = old + 4',\n",
       "  '  Test: divisible by 11',\n",
       "  '    If true: throw to monkey 5',\n",
       "  '    If false: throw to monkey 3'],\n",
       " ['Monkey 2:',\n",
       "  '  Starting items: 52',\n",
       "  '  Operation: new = old * old',\n",
       "  '  Test: divisible by 2',\n",
       "  '    If true: throw to monkey 3',\n",
       "  '    If false: throw to monkey 1'],\n",
       " ['Monkey 3:',\n",
       "  '  Starting items: 59, 53, 60, 92, 69, 72',\n",
       "  '  Operation: new = old + 2',\n",
       "  '  Test: divisible by 5',\n",
       "  '    If true: throw to monkey 5',\n",
       "  '    If false: throw to monkey 6'],\n",
       " ['Monkey 4:',\n",
       "  '  Starting items: 61, 52, 55, 61',\n",
       "  '  Operation: new = old + 3',\n",
       "  '  Test: divisible by 7',\n",
       "  '    If true: throw to monkey 7',\n",
       "  '    If false: throw to monkey 2'],\n",
       " ['Monkey 5:',\n",
       "  '  Starting items: 79, 53',\n",
       "  '  Operation: new = old + 1',\n",
       "  '  Test: divisible by 3',\n",
       "  '    If true: throw to monkey 0',\n",
       "  '    If false: throw to monkey 6'],\n",
       " ['Monkey 6:',\n",
       "  '  Starting items: 59, 86, 67, 95, 92, 77, 91',\n",
       "  '  Operation: new = old + 5',\n",
       "  '  Test: divisible by 19',\n",
       "  '    If true: throw to monkey 4',\n",
       "  '    If false: throw to monkey 0'],\n",
       " ['Monkey 7:',\n",
       "  '  Starting items: 58, 83, 89',\n",
       "  '  Operation: new = old * 19',\n",
       "  '  Test: divisible by 17',\n",
       "  '    If true: throw to monkey 2',\n",
       "  '    If false: throw to monkey 1']]"
      ]
     },
     "execution_count": 60,
     "metadata": {},
     "output_type": "execute_result"
    }
   ],
   "source": [
    "lst_monkey"
   ]
  },
  {
   "cell_type": "code",
   "execution_count": 61,
   "id": "b22d919f-1a64-42fb-82c0-7a960eba5fc4",
   "metadata": {},
   "outputs": [],
   "source": [
    "lst_processed = list(map(process_monkey, lst_monkey))\n",
    "\n",
    "# First input is from puzzle\n",
    "monkey_inputs = [x[0] for x in lst_processed]\n",
    "lst_run = list(map(lambda x: x[1:], lst_processed))\n",
    "lst_cnt = [0 for _ in lst_run]"
   ]
  },
  {
   "cell_type": "code",
   "execution_count": 62,
   "id": "8b82e8dc-0252-42e1-8dfb-5c4807f119f5",
   "metadata": {},
   "outputs": [],
   "source": [
    "for _ in range(20):\n",
    "    for idx, monkey in enumerate(lst_run):\n",
    "        fx_op, condition, m_true, m_false = monkey\n",
    "        items = monkey_inputs[idx]\n",
    "        monkey_inputs[idx] = [] # Reset the list\n",
    "        lst_cnt[idx] += len(items)\n",
    "        \n",
    "        items = list(map(fx_op, items))\n",
    "        items = list(map(lambda x: x // 3 , items))\n",
    "        for elt in items:\n",
    "            if elt % condition == 0:\n",
    "                monkey_inputs[m_true].append(elt)\n",
    "            else:\n",
    "                monkey_inputs[m_false].append(elt)\n",
    "            "
   ]
  },
  {
   "cell_type": "code",
   "execution_count": 63,
   "id": "bae05186-82c8-4737-af4b-9c0d09f4dbfb",
   "metadata": {},
   "outputs": [
    {
     "data": {
      "text/plain": [
       "[340, 332, 16, 334, 17, 94, 298, 346]"
      ]
     },
     "execution_count": 63,
     "metadata": {},
     "output_type": "execute_result"
    }
   ],
   "source": [
    "lst_cnt"
   ]
  },
  {
   "cell_type": "code",
   "execution_count": 64,
   "id": "068718c5-a154-4be8-ad54-6d513e967f5f",
   "metadata": {},
   "outputs": [
    {
     "data": {
      "text/plain": [
       "117640"
      ]
     },
     "execution_count": 64,
     "metadata": {},
     "output_type": "execute_result"
    }
   ],
   "source": [
    "a, b = sorted(lst_cnt)[-2:]\n",
    "a * b"
   ]
  },
  {
   "cell_type": "markdown",
   "id": "45f913c2-893d-4334-a0f3-02600fb6228d",
   "metadata": {},
   "source": [
    "# Part 2"
   ]
  },
  {
   "cell_type": "code",
   "execution_count": 221,
   "id": "bfd4d9ac-8a0a-4a92-a53f-b4b9b4ad95c8",
   "metadata": {},
   "outputs": [],
   "source": [
    "lst_processed = list(map(process_monkey, lst_monkey))\n",
    "\n",
    "# First input is from puzzle\n",
    "monkey_inputs = [x[0] for x in lst_processed]\n",
    "lst_run = list(map(lambda x: x[1:], lst_processed))\n",
    "lst_cnt = [0 for _ in lst_run]"
   ]
  },
  {
   "cell_type": "code",
   "execution_count": 222,
   "id": "deb9a149-09e6-4303-aece-63e8e39e2312",
   "metadata": {},
   "outputs": [
    {
     "name": "stdout",
     "output_type": "stream",
     "text": [
      "9999"
     ]
    }
   ],
   "source": [
    "for step in range(10000):\n",
    "    print(step, end=\"\\r\")\n",
    "    for idx, monkey in enumerate(lst_run):\n",
    "        fx_op, condition, m_true, m_false = monkey\n",
    "        items = monkey_inputs[idx]\n",
    "        monkey_inputs[idx] = [] # Reset the list\n",
    "        lst_cnt[idx] += len(items)\n",
    "        \n",
    "        items = list(map(fx_op, items))\n",
    "        items = list(map(lambda x: x % (2*3*5*7*13*17*11*19), items))\n",
    "        for elt in items:\n",
    "            if elt % condition == 0:\n",
    "                monkey_inputs[m_true].append(elt)\n",
    "            else:\n",
    "                monkey_inputs[m_false].append(elt)\n",
    "\n"
   ]
  },
  {
   "cell_type": "markdown",
   "id": "4e2a5eee-b2fa-4c8e-8c74-38c5228dab73",
   "metadata": {},
   "source": [
    "Too low 108232"
   ]
  },
  {
   "cell_type": "code",
   "execution_count": 226,
   "id": "0ecd3401-0493-4f9c-a527-25cdde702d00",
   "metadata": {},
   "outputs": [],
   "source": [
    "a, b = sorted(lst_cnt)[-2:]\n",
    "print(a*b)"
   ]
  },
  {
   "cell_type": "code",
   "execution_count": null,
   "id": "ba16955d-30cd-4916-b5e2-96c0cbd97fbd",
   "metadata": {},
   "outputs": [],
   "source": []
  },
  {
   "cell_type": "code",
   "execution_count": null,
   "id": "6483acc6-d877-41c5-a9d8-95761a8d1dfb",
   "metadata": {},
   "outputs": [],
   "source": []
  }
 ],
 "metadata": {
  "kernelspec": {
   "display_name": "hmpv",
   "language": "python",
   "name": "hmpv"
  },
  "language_info": {
   "codemirror_mode": {
    "name": "ipython",
    "version": 3
   },
   "file_extension": ".py",
   "mimetype": "text/x-python",
   "name": "python",
   "nbconvert_exporter": "python",
   "pygments_lexer": "ipython3",
   "version": "3.12.3"
  }
 },
 "nbformat": 4,
 "nbformat_minor": 5
}
